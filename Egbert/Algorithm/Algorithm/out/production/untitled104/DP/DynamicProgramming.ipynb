{
 "cells": [
  {
   "cell_type": "markdown",
   "metadata": {},
   "source": [
    "# Dynamic Programming: Recurrence\n",
    "## Leetcode 312, best stock time IV, 375, 猜金币\n",
    "#### 当问到求 最大， 最少， 最多，最小的问题，都可以想到用DP来做\n",
    "###### Dynamic Programming = Divide and Conquer + Memorization\n",
    "\n",
    "\n",
    "动态规划就是Dvide and conquer的延伸，当迂回分割出来的问题，一而再，再而三的出现，就用记忆方法储存这些问题的答案，避免重复求解，以空间换取时间\n",
    "\n",
    "DP的过程就是反复的读取数据，计算数据，储存数据。\n",
    "\n",
    "\n",
    "![mem pic](1.png)\n",
    "\n",
    "\n",
    "1.把原问题分割成许多更小的问题。(recurrence) \n",
    "```\n",
    "    1-1. 子问题和原问题的求解方式类似。(Optimal sub-structure)\n",
    "    1-2. 子问题会一而再，再而三的出现。(Overlapping sub-problems)\n",
    "```\n",
    "\n",
    "2.设计计算过程:\n",
    "```\n",
    "    2-1. 确认每个问题需要那些子问题来计算答案.(recurrence)\n",
    "    2-2. 确认共有那些问题.(State space)\n",
    "    2-3. 把问题一一对应到表格。（lookup table）\n",
    "    2-4. 决定问题的计算顺序.(Computational sequence)\n",
    "    2-5. 确认初始值, 计算范围(initial states / boundary)\n",
    "```\n",
    "3.implementation, two methods:\n",
    "```\n",
    "    3-1. Top-Down\n",
    "    3-2. Bottom-up\n",
    "```"
   ]
  },
  {
   "cell_type": "markdown",
   "metadata": {},
   "source": [
    "# 经典问题 - 爬楼梯"
   ]
  },
  {
   "cell_type": "code",
   "execution_count": 40,
   "metadata": {},
   "outputs": [
    {
     "name": "stdout",
     "output_type": "stream",
     "text": [
      "0.0006668567657470703\n"
     ]
    }
   ],
   "source": [
    "# DP get number of way in each level\n",
    "# Top Down\n",
    "table = [0 for i in range(500)]\n",
    "def dp(n):\n",
    "    if n == 0 or n == 1:\n",
    "        return 1\n",
    "    if table[n]:\n",
    "        return table[n]\n",
    "    table[n] = dp(n - 1) + dp(n - 2)\n",
    "    return table[n]\n",
    "import time\n",
    "start = time.time()\n",
    "dp(499)\n",
    "end = time.time()\n",
    "print(end - start)"
   ]
  },
  {
   "cell_type": "code",
   "execution_count": 41,
   "metadata": {},
   "outputs": [
    {
     "name": "stdout",
     "output_type": "stream",
     "text": [
      "0.0002048015594482422\n"
     ]
    }
   ],
   "source": [
    "def dp2(n):\n",
    "    table = [0 for i in range(n + 1)]\n",
    "    table[0], table[1] = 1, 1\n",
    "    for i in range(2, n + 1):\n",
    "        table[i] = table[i - 1] + table[i - 2]\n",
    "    return table[i]\n",
    "import time\n",
    "start = time.time()\n",
    "dp2(499)\n",
    "end = time.time()\n",
    "print(end - start)"
   ]
  },
  {
   "cell_type": "markdown",
   "metadata": {},
   "source": [
    "# DP经典问题2 - StairCase Walk\n",
    "![mem pic](2.png)"
   ]
  },
  {
   "cell_type": "code",
   "execution_count": 46,
   "metadata": {},
   "outputs": [
    {
     "name": "stdout",
     "output_type": "stream",
     "text": [
      "[[1, 1, 1, 1, 1, 1, 1, 1], [1, 2, 3, 4, 5, 6, 7, 8], [1, 3, 6, 10, 15, 21, 28, 36], [1, 4, 10, 20, 35, 56, 84, 120], [1, 5, 15, 35, 70, 126, 210, 330], [1, 6, 21, 56, 126, 252, 462, 792], [1, 7, 28, 84, 210, 462, 924, 1716], [1, 8, 36, 120, 330, 792, 1716, 3432]]\n"
     ]
    },
    {
     "data": {
      "text/plain": [
       "3432"
      ]
     },
     "execution_count": 46,
     "metadata": {},
     "output_type": "execute_result"
    }
   ],
   "source": [
    "def stairWalk(n):\n",
    "    path = []\n",
    "    for i in range(n):\n",
    "        row = [0 for j in range(n)]\n",
    "        path.append(row)\n",
    "    for i in range(n):\n",
    "        path[0][i] = 1\n",
    "        path[i][0] = 1\n",
    "    for i in range(1, n):\n",
    "        for j in range(1, n):\n",
    "            path[i][j] = path[i][j - 1] + path[i - 1][j]\n",
    "    print(path)\n",
    "    return path[n - 1][n - 1]\n",
    "\n",
    "stairWalk(8)"
   ]
  },
  {
   "cell_type": "markdown",
   "metadata": {},
   "source": [
    "# 给定额度，求最少的coin数量，硬币的面额为2, 5, 7"
   ]
  },
  {
   "cell_type": "code",
   "execution_count": 53,
   "metadata": {},
   "outputs": [
    {
     "data": {
      "text/plain": [
       "15"
      ]
     },
     "execution_count": 53,
     "metadata": {},
     "output_type": "execute_result"
    }
   ],
   "source": [
    "import sys\n",
    "class Solution:\n",
    "    def findMinNum(self, n):\n",
    "        count = [0]\n",
    "        for i in range(1, n + 1):\n",
    "            count.append(sys.maxsize)\n",
    "            if i - 2 >= 0 and count[i - 2] < sys.maxsize and count[i - 2] + 1 < count[i]:\n",
    "                count[i] = count[i - 2] + 1\n",
    "            if i - 5 >= 0 and count[i - 5] < sys.maxsize and count[i - 5] + 1 < count[i]:\n",
    "                count[i] = count[i - 5] + 1\n",
    "            if i - 7 >= 0 and count[i - 7] < sys.maxsize and count[i - 7] + 1 < count[i]:\n",
    "                count[i] = count[i - 7] + 1\n",
    "        return count[n]\n",
    "s = Solution()\n",
    "s.findMinNum(100)"
   ]
  },
  {
   "cell_type": "markdown",
   "metadata": {},
   "source": [
    "# LeetCode 322 Coin Change\n",
    "###### link: https://leetcode.com/problems/coin-change/#/description"
   ]
  },
  {
   "cell_type": "code",
   "execution_count": 57,
   "metadata": {},
   "outputs": [
    {
     "data": {
      "text/plain": [
       "-1"
      ]
     },
     "execution_count": 57,
     "metadata": {},
     "output_type": "execute_result"
    }
   ],
   "source": [
    "class Solution(object):\n",
    "    def coinChange(self, coins, amount):\n",
    "        \"\"\"\n",
    "        :type coins: List[int]\n",
    "        :type amount: int\n",
    "        :rtype: int\n",
    "        \"\"\"\n",
    "        if coins == None or len(coins) == 0 or amount < 0:\n",
    "            return -1\n",
    "        count = [0]\n",
    "        for i in range(1, amount + 1):\n",
    "            count.append(sys.maxsize)\n",
    "            for j in range(len(coins)):\n",
    "                if i - coins[j] >= 0 and count[i - coins[j]] < sys.maxsize and count[i - coins[j]] + 1 < count[i]:\n",
    "                    count[i] = count[i - coins[j]] + 1\n",
    "        \n",
    "        return [count[amount], -1][count[amount] == sys.maxsize]\n",
    "\n",
    "s = Solution()\n",
    "s.coinChange([1,2,5],11)\n",
    "s.coinChange([2], 3)"
   ]
  },
  {
   "cell_type": "markdown",
   "metadata": {},
   "source": [
    "# Leetcode 375 Guess Number Higher or Lower II\n",
    "###### link: https://leetcode.com/problems/guess-number-higher-or-lower-ii/#/description"
   ]
  },
  {
   "cell_type": "code",
   "execution_count": null,
   "metadata": {
    "collapsed": true
   },
   "outputs": [],
   "source": [
    "class Solution(object):\n",
    "    def cost(a, start, end):\n",
    "        rest = 2 ** 31\n",
    "        if start >= end:\n",
    "            return 0\n",
    "        if a[start]\n",
    "    \n",
    "    def getMoneyAmount(self, n):\n",
    "        \"\"\"\n",
    "        :type n: int\n",
    "        :rtype: int\n",
    "        \"\"\"\n",
    "        spend = []\n",
    "        "
   ]
  },
  {
   "cell_type": "markdown",
   "metadata": {
    "collapsed": true
   },
   "source": [
    "# LintCode 397 - Longest Increasing Continuous Subsequence\n",
    "http://www.lintcode.com/en/problem/longest-increasing-continuous-subsequence/"
   ]
  },
  {
   "cell_type": "code",
   "execution_count": null,
   "metadata": {
    "collapsed": true
   },
   "outputs": [],
   "source": []
  },
  {
   "cell_type": "markdown",
   "metadata": {
    "collapsed": true
   },
   "source": [
    "# LintCode - Longest Increasing Continuous Subsequence\n",
    "http://www.lintcode.com/en/problem/longest-increasing-continuous-subsequence/\n",
    "\n",
    "#### f[i] = [1, f[i - 1] + 1 | i > 0 and A[i - 1] < A[i] and  f[i - 1] + 1 > f[i]]"
   ]
  },
  {
   "cell_type": "code",
   "execution_count": 19,
   "metadata": {},
   "outputs": [
    {
     "data": {
      "text/plain": [
       "4"
      ]
     },
     "execution_count": 19,
     "metadata": {},
     "output_type": "execute_result"
    }
   ],
   "source": [
    "class Solution:\n",
    "    # @param {int[]} A an array of Integer\n",
    "    # @return {int}  an integer\n",
    "    def dp(self, A, count, res):\n",
    "        for i in range(len(A)):\n",
    "            count[i] = 1\n",
    "            if i > 0 and A[i - 1] < A[i] and count[i - 1] + 1 > count[i]:\n",
    "                count[i] = count[i - 1] + 1\n",
    "            if count[i] > res:\n",
    "                res = count[i]\n",
    "        return res\n",
    "    def longestIncreasingContinuousSubsequence(self, A):\n",
    "        count = []\n",
    "        if len(A) == 0:\n",
    "            return 0\n",
    "        res = 0\n",
    "        count = [0 for i in range(len(A))]\n",
    "        res = self.dp(A, count, res)\n",
    "        A.reverse()\n",
    "    \n",
    "        res = self.dp(A, count, res)\n",
    "        return res\n",
    "\n",
    "s = Solution()\n",
    "s.longestIncreasingContinuousSubsequence([5,4,2,1,3])"
   ]
  },
  {
   "cell_type": "markdown",
   "metadata": {
    "collapsed": true
   },
   "source": [
    "# Lintcode 76 - Longest Increasing Subsequence\n",
    "http://www.lintcode.com/en/problem/longest-increasing-subsequence/\n",
    "###### f[j] = max{1, f[i] + 1 | i <  j and a[i] < a[j}"
   ]
  },
  {
   "cell_type": "code",
   "execution_count": 35,
   "metadata": {},
   "outputs": [
    {
     "data": {
      "text/plain": [
       "4"
      ]
     },
     "execution_count": 35,
     "metadata": {},
     "output_type": "execute_result"
    }
   ],
   "source": [
    "class Solution:\n",
    "    \"\"\"\n",
    "    @param nums: The integer array\n",
    "    @return: The length of LIS (longest increasing subsequence)\n",
    "    \"\"\"\n",
    "    def dp(self, nums, count, res):\n",
    "        for i in range(len(nums)):\n",
    "            count[i] = 1\n",
    "            for j in range(0, i):\n",
    "                if nums[j] < nums[i] and count[j] + 1 > count[i]:\n",
    "                    count[i] = count[j] + 1\n",
    "            if count[i] > res:\n",
    "                res = count[i]\n",
    "        return res\n",
    "                \n",
    "    def longestIncreasingSubsequence(self, nums):\n",
    "        if nums == None or len(nums) == 0:\n",
    "            return 0\n",
    "        count = [0 for i in range(len(nums))]\n",
    "        res = 0\n",
    "        return self.dp(nums, count, res)\n",
    "s = Solution()\n",
    "s.longestIncreasingSubsequence([5,4,1,2,3])\n",
    "s.longestIncreasingSubsequence([4,2,4,5,3,7])"
   ]
  },
  {
   "cell_type": "markdown",
   "metadata": {
    "collapsed": true
   },
   "source": [
    "# LintCode 52 Next Permutation\n",
    "http://www.lintcode.com/en/problem/next-permutation/"
   ]
  },
  {
   "cell_type": "code",
   "execution_count": null,
   "metadata": {
    "collapsed": true
   },
   "outputs": [],
   "source": [
    "class Solution:\n",
    "    # @param num :  a list of integer\n",
    "    # @return : a list of integer\n",
    "    def nextPermutation(self, num):\n",
    "        # write your code here\n"
   ]
  },
  {
   "cell_type": "markdown",
   "metadata": {
    "collapsed": true
   },
   "source": [
    "# Lintcode 191 - Maximum Product Subarray\n",
    "#### LinkedIn\n",
    "\n",
    "```\n",
    "f[i] maximum product subarray\n",
    "g[i] minimum product subarray\n",
    "f[j] = max{ a[j], max{ a[j] * f[j - 1], a[j] * g[j - 1]} | j > 0 }\n",
    "g[j] = min{ a[j], min{ a[j] * f[j - 1], a[j] * g[j - 1] } | j > 0}\n",
    "```\n",
    "http://www.lintcode.com/en/problem/maximum-product-subarray/\n"
   ]
  },
  {
   "cell_type": "code",
   "execution_count": 34,
   "metadata": {},
   "outputs": [
    {
     "data": {
      "text/plain": [
       "10"
      ]
     },
     "execution_count": 34,
     "metadata": {},
     "output_type": "execute_result"
    }
   ],
   "source": [
    "import sys\n",
    "from copy import deepcopy\n",
    "class Solution:\n",
    "    # @param nums: an integer[]\n",
    "    # @return: an integer\n",
    "    def dp(self, nums, f, g, res):\n",
    "        for i in range(len(nums)):\n",
    "            f[i] = nums[i]\n",
    "            g[i] = nums[i]\n",
    "            if i > 0 and max(nums[i] * f[i - 1], nums[i] * g[i - 1]) > f[i]:\n",
    "                f[i] = max(nums[i] * f[i - 1], nums[i] * g[i - 1])\n",
    "            if i > 0 and min(nums[i] * f[i - 1], nums[i] * g[i - 1]) < g[i]:\n",
    "                g[i] = min(nums[i] * f[i - 1], nums[i] * g[i - 1])\n",
    "        return res\n",
    "    def maxProduct(self, nums):\n",
    "        if nums == None or len(nums) == 0:\n",
    "            return 0\n",
    "        f = [0 for i in range(len(nums))]\n",
    "        g = deepcopy(f)\n",
    "        res = -sys.maxsize\n",
    "        return self.dp(nums, prodc, res)\n",
    "\n",
    "s = Solution()\n",
    "s.maxProduct([1,0,-1,2,3,-5,-2])"
   ]
  },
  {
   "cell_type": "code",
   "execution_count": null,
   "metadata": {
    "collapsed": true
   },
   "outputs": [],
   "source": []
  },
  {
   "cell_type": "code",
   "execution_count": null,
   "metadata": {
    "collapsed": true
   },
   "outputs": [],
   "source": []
  },
  {
   "cell_type": "code",
   "execution_count": null,
   "metadata": {
    "collapsed": true
   },
   "outputs": [],
   "source": []
  },
  {
   "cell_type": "code",
   "execution_count": null,
   "metadata": {
    "collapsed": true
   },
   "outputs": [],
   "source": []
  },
  {
   "cell_type": "code",
   "execution_count": null,
   "metadata": {
    "collapsed": true
   },
   "outputs": [],
   "source": []
  },
  {
   "cell_type": "code",
   "execution_count": null,
   "metadata": {
    "collapsed": true
   },
   "outputs": [],
   "source": []
  },
  {
   "cell_type": "code",
   "execution_count": null,
   "metadata": {
    "collapsed": true
   },
   "outputs": [],
   "source": []
  }
 ],
 "metadata": {
  "kernelspec": {
   "display_name": "Python 3",
   "language": "python",
   "name": "python3"
  },
  "language_info": {
   "codemirror_mode": {
    "name": "ipython",
    "version": 3
   },
   "file_extension": ".py",
   "mimetype": "text/x-python",
   "name": "python",
   "nbconvert_exporter": "python",
   "pygments_lexer": "ipython3",
   "version": "3.6.6"
  }
 },
 "nbformat": 4,
 "nbformat_minor": 2
}
